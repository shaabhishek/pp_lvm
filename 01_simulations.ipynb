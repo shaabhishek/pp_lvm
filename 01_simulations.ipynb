{
 "cells": [
  {
   "cell_type": "code",
   "execution_count": 1,
   "metadata": {},
   "outputs": [],
   "source": [
    "# default_exp simulations"
   ]
  },
  {
   "cell_type": "markdown",
   "metadata": {},
   "source": [
    "# module name here\n",
    "\n",
    "> API details."
   ]
  },
  {
   "cell_type": "code",
   "execution_count": 2,
   "metadata": {},
   "outputs": [],
   "source": [
    "#hide\n",
    "from nbdev.showdoc import *"
   ]
  },
  {
   "cell_type": "code",
   "execution_count": 3,
   "metadata": {},
   "outputs": [],
   "source": [
    "import numpy as np\n",
    "import matplotlib.pyplot as plt\n",
    "\n",
    "import torch\n",
    "import torch.distributions as dist\n",
    "import torch.nn as nn\n",
    "import torch.nn.functional as F"
   ]
  },
  {
   "cell_type": "code",
   "execution_count": 4,
   "metadata": {},
   "outputs": [
    {
     "data": {
      "text/plain": [
       "True"
      ]
     },
     "execution_count": 4,
     "metadata": {},
     "output_type": "execute_result"
    }
   ],
   "source": [
    "torch.cuda.is_available()"
   ]
  },
  {
   "cell_type": "markdown",
   "metadata": {},
   "source": [
    "# Parameters"
   ]
  },
  {
   "cell_type": "code",
   "execution_count": 5,
   "metadata": {},
   "outputs": [],
   "source": [
    "class TrueParameters:\n",
    "    def __init__(self):\n",
    "        # Hyperparameters\n",
    "        self.S,self.N = 2,10\n",
    "\n",
    "        # z\n",
    "        self.B = 3\n",
    "        self.P = torch.rand((self.B,self.B)) + torch.eye(self.B,self.B)\n",
    "        self.Wx = torch.rand(self.B)\n",
    "\n",
    "        # h\n",
    "        self.H_dim = 2\n",
    "        self.mu_h = torch.randn(self.B, self.H_dim)\n",
    "        self.sigma_h = torch.rand(self.B, self.H_dim).view(self.B, self.H_dim) * torch.randint(1,10, (1,), dtype=torch.float32)\n",
    "\n",
    "        # i\n",
    "        self.beta_a = torch.tensor([-np.log(4), 0.,0.])\n",
    "        self.beta_b = torch.tensor([0., 0.,0.])\n",
    "\n",
    "        # y\n",
    "        self.Y_dim = 3\n",
    "        self.W_mu_y = torch.randn(self.H_dim, self.Y_dim)\n",
    "        self.W_sigma_y = torch.rand(self.H_dim, self.Y_dim)\n"
   ]
  },
  {
   "cell_type": "code",
   "execution_count": 6,
   "metadata": {},
   "outputs": [
    {
     "name": "stdout",
     "output_type": "stream",
     "text": [
      "tensor([[6.2833, 2.0133],\n",
      "        [3.8066, 6.5045],\n",
      "        [8.2523, 4.9759]])\n"
     ]
    },
    {
     "data": {
      "text/plain": [
       "<matplotlib.image.AxesImage at 0x2aab30e78b50>"
      ]
     },
     "execution_count": 6,
     "metadata": {},
     "output_type": "execute_result"
    },
    {
     "data": {
      "image/png": "[encoded data removed]",
      "text/plain": [
       "<Figure size 432x288 with 1 Axes>"
      ]
     },
     "metadata": {
      "needs_background": "light"
     },
     "output_type": "display_data"
    }
   ],
   "source": [
    "Params = TrueParameters()\n",
    "print(Params.sigma_h)\n",
    "plt.imshow(Params.sigma_h)"
   ]
  },
  {
   "cell_type": "markdown",
   "metadata": {},
   "source": [
    "# Helper functions"
   ]
  },
  {
   "cell_type": "code",
   "execution_count": 7,
   "metadata": {},
   "outputs": [],
   "source": [
    "transform_x = lambda t: torch.sin(t/200)*.7 - .1"
   ]
  },
  {
   "cell_type": "code",
   "execution_count": 8,
   "metadata": {},
   "outputs": [],
   "source": [
    "def link_gamma(xn, zn, Params):\n",
    "    data = torch.tensor([1., xn, zn])\n",
    "    a,b = (torch.dot(Params.beta_a, data).mul(-1).exp(), torch.dot(Params.beta_b, data).mul(-1).exp())\n",
    "    # print(a,b)\n",
    "    return a,b"
   ]
  },
  {
   "cell_type": "code",
   "execution_count": 9,
   "metadata": {},
   "outputs": [],
   "source": [
    "def sample_using_logits(logits):\n",
    "    return dist.Categorical(logits=logits).sample()"
   ]
  },
  {
   "cell_type": "code",
   "execution_count": 10,
   "metadata": {},
   "outputs": [],
   "source": [
    "#export\n",
    "def get_time_from_intervals(I):\n",
    "    last_dim_size = I.shape[-1]\n",
    "    I = F.pad(I, (1,0)) #pads the last dimension with width=1 on the left and width=0 on the right. Value of padding=0\n",
    "    I = I.cumsum(dim=-1)\n",
    "    # Note: new I has one element extra than initial I on the final dimension. This cuts that one last element in a general way\n",
    "    I = torch.stack([torch.select(I, I.dim()-1, i) for i in range(last_dim_size)], dim=-1)\n",
    "    return I"
   ]
  },
  {
   "cell_type": "markdown",
   "metadata": {},
   "source": [
    "# Simulation"
   ]
  },
  {
   "cell_type": "markdown",
   "metadata": {},
   "source": [
    "## X, Z, I"
   ]
  },
  {
   "cell_type": "code",
   "execution_count": 11,
   "metadata": {},
   "outputs": [],
   "source": [
    "def simulate_XZI_seq(Params):\n",
    "    t = torch.tensor([0.])\n",
    "    X_s = [transform_x(t)]\n",
    "    Z_s = [sample_using_logits(Params.Wx*X_s[0])]\n",
    "    I_s = [dist.Gamma(*link_gamma(X_s[0], Z_s[0], Params)).sample()]\n",
    "\n",
    "    for n in range(1, Params.N):\n",
    "        t += I_s[-1]\n",
    "        X_s.append(transform_x(t) + torch.randn((1,))*.1) #uses current t which is a function of all I_{t'}, t' < t\n",
    "        Z_s.append(sample_using_logits(Params.Wx*X_s[-1] + Params.P[Z_s[-1]])) #X_{t} and Z_{t-1}\n",
    "        I_s.append(dist.Gamma(*link_gamma(X_s[-1], Z_s[-1], Params)).sample()) #X_{t} and Z_{t}\n",
    "  \n",
    "    X_s, Z_s, I_s = torch.tensor(X_s), torch.tensor(Z_s), torch.tensor(I_s)\n",
    "    return X_s, Z_s, I_s\n",
    "\n",
    "def simulate_XZI(Params):\n",
    "    X, Z, I = [], [], []\n",
    "    for s in range(Params.S):\n",
    "        X_s, Z_s, I_s = simulate_XZI_seq(Params)\n",
    "        X.append(X_s)\n",
    "        Z.append(Z_s)\n",
    "        I.append(I_s)\n",
    "\n",
    "    return torch.stack(X, dim=0), torch.stack(Z, dim=0), torch.stack(I, dim=0)\n",
    "\n"
   ]
  },
  {
   "cell_type": "markdown",
   "metadata": {},
   "source": [
    "## H"
   ]
  },
  {
   "cell_type": "code",
   "execution_count": 12,
   "metadata": {},
   "outputs": [],
   "source": [
    "def simulate_H(Z,Params):\n",
    "    H = []\n",
    "    for s in range(Params.S):\n",
    "        Z_s = Z[s]\n",
    "        H_s = torch.stack([dist.Normal(Params.mu_h[Z_s[n]], Params.sigma_h[Z_s[n]]).sample() for n in range(Params.N)], dim=0)\n",
    "        H.append(H_s)\n",
    "    return torch.stack(H, dim=0) #shape: (S,T,H_dim)"
   ]
  },
  {
   "cell_type": "markdown",
   "metadata": {},
   "source": [
    "## Y"
   ]
  },
  {
   "cell_type": "code",
   "execution_count": 13,
   "metadata": {},
   "outputs": [],
   "source": [
    "def simulate_Y(H, Params):\n",
    "    mu, sigma = torch.matmul(H, Params.W_mu_y), torch.matmul(H, Params.W_sigma_y)\n",
    "    Y = dist.Normal(mu, sigma).sample()\n",
    "    return Y"
   ]
  },
  {
   "cell_type": "markdown",
   "metadata": {},
   "source": [
    "# Generate FULL DATASET"
   ]
  },
  {
   "cell_type": "code",
   "execution_count": null,
   "metadata": {},
   "outputs": [],
   "source": [
    "#export\n",
    "def simulate_data(Params):\n",
    "    X, Z, I = simulate_XZI(Params)\n",
    "    T = get_time_from_intervals(I)\n",
    "    H = simulate_H(Z, Params)\n",
    "    Y = simulate_Y(H, Params)\n",
    "    return I,Y,T,X,Z,H"
   ]
  },
  {
   "cell_type": "markdown",
   "metadata": {},
   "source": [
    "# TEST"
   ]
  },
  {
   "cell_type": "code",
   "execution_count": 14,
   "metadata": {},
   "outputs": [],
   "source": [
    "def test():\n",
    "    Params = TrueParameters()\n",
    "    X, Z, I = simulate_XZI(Params)\n",
    "    T = get_time_from_intervals(I)\n",
    "    H = simulate_H(Z, Params)\n",
    "    Y = simulate_Y(H, Params)\n",
    "    return X,Z,I,T,H,Y"
   ]
  },
  {
   "cell_type": "code",
   "execution_count": 15,
   "metadata": {},
   "outputs": [],
   "source": [
    "X,Z,I,T,H,Y = test()"
   ]
  },
  {
   "cell_type": "code",
   "execution_count": 16,
   "metadata": {
    "scrolled": true
   },
   "outputs": [
    {
     "data": {
      "text/plain": [
       "(torch.Size([2, 10]),\n",
       " torch.Size([2, 10]),\n",
       " torch.Size([2, 10]),\n",
       " torch.Size([2, 10]),\n",
       " torch.Size([2, 10, 2]),\n",
       " torch.Size([2, 10, 3]))"
      ]
     },
     "execution_count": 16,
     "metadata": {},
     "output_type": "execute_result"
    }
   ],
   "source": [
    "X.shape,Z.shape,I.shape,T.shape,H.shape,Y.shape"
   ]
  },
  {
   "cell_type": "code",
   "execution_count": 17,
   "metadata": {},
   "outputs": [],
   "source": [
    "## Some Visualizations"
   ]
  },
  {
   "cell_type": "code",
   "execution_count": 18,
   "metadata": {},
   "outputs": [],
   "source": [
    "def visualize(Params, X,T,I):\n",
    "    fig, ax = plt.subplots(2,2, figsize=(8,8))\n",
    "\n",
    "\n",
    "    ax[0,0].plot(torch.linspace(1e-6,T[0,-1],100), transform_x(torch.linspace(1e-6,T[0,-1],100)))\n",
    "    ax[0,0].scatter(T[0], X[0])\n",
    "    ax[0,0].set_title(\"Latent state $x(t)$ (1 Seq)\")\n",
    "\n",
    "    im = ax[0,1].imshow(Params.P)\n",
    "    fig.colorbar(im, ax=ax[0,1])\n",
    "    ax[0,1].set_title(\"Base transition logits\")\n",
    "\n",
    "    for s in range(min(5, Params.S)):\n",
    "        ax[1,0].scatter(T[s], torch.zeros_like(T[s])+s)\n",
    "    ax[1,0].set_title(\"Event Times (5 indpt sequences)\")\n",
    "\n",
    "    ax[1,1].hist(I[0].numpy(), bins=20)\n",
    "    ax[1,1].set_title(\"Histogram of Interval Times (1 sequence)\")"
   ]
  },
  {
   "cell_type": "code",
   "execution_count": 19,
   "metadata": {},
   "outputs": [
    {
     "data": {
      "image/png": "[encoded data removed]",
      "text/plain": [
       "<Figure size 576x576 with 5 Axes>"
      ]
     },
     "metadata": {
      "needs_background": "light"
     },
     "output_type": "display_data"
    }
   ],
   "source": [
    "visualize(Params,X,T,I)"
   ]
  },
  {
   "cell_type": "code",
   "execution_count": null,
   "metadata": {},
   "outputs": [],
   "source": []
  },
  {
   "cell_type": "code",
   "execution_count": 20,
   "metadata": {},
   "outputs": [
    {
     "name": "stdout",
     "output_type": "stream",
     "text": [
      "Converted 00_core.ipynb.\n",
      "Converted 01_simulations.ipynb.\n",
      "Converted index.ipynb.\n"
     ]
    }
   ],
   "source": [
    "from nbdev.export import *\n",
    "notebook2script()"
   ]
  },
  {
   "cell_type": "code",
   "execution_count": null,
   "metadata": {},
   "outputs": [],
   "source": []
  }
 ],
 "metadata": {
  "kernelspec": {
   "display_name": "Python 3",
   "language": "python",
   "name": "python3"
  },
  "language_info": {
   "codemirror_mode": {
    "name": "ipython",
    "version": 3
   },
   "file_extension": ".py",
   "mimetype": "text/x-python",
   "name": "python",
   "nbconvert_exporter": "python",
   "pygments_lexer": "ipython3",
   "version": "3.7.6"
  }
 },
 "nbformat": 4,
 "nbformat_minor": 2
}
