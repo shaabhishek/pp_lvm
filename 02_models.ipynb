{
 "cells": [
  {
   "cell_type": "code",
   "execution_count": 1,
   "metadata": {},
   "outputs": [],
   "source": [
    "# default_exp models"
   ]
  },
  {
   "cell_type": "markdown",
   "metadata": {},
   "source": [
    "# module name here\n",
    "\n",
    "> API details."
   ]
  },
  {
   "cell_type": "code",
   "execution_count": 2,
   "metadata": {},
   "outputs": [],
   "source": [
    "#hide\n",
    "from nbdev.showdoc import *"
   ]
  },
  {
   "cell_type": "code",
   "execution_count": 3,
   "metadata": {},
   "outputs": [],
   "source": [
    "#export\n",
    "import numpy as np\n",
    "import matplotlib.pyplot as plt\n",
    "\n",
    "import torch\n",
    "import torch.distributions as dist\n",
    "import torch.nn as nn\n",
    "import torch.nn.functional as F"
   ]
  },
  {
   "cell_type": "code",
   "execution_count": 4,
   "metadata": {},
   "outputs": [
    {
     "data": {
      "text/plain": [
       "True"
      ]
     },
     "execution_count": 4,
     "metadata": {},
     "output_type": "execute_result"
    }
   ],
   "source": [
    "torch.cuda.is_available()"
   ]
  },
  {
   "cell_type": "markdown",
   "metadata": {},
   "source": [
    "# H "
   ]
  },
  {
   "cell_type": "markdown",
   "metadata": {},
   "source": [
    "### Encoder"
   ]
  },
  {
   "cell_type": "code",
   "execution_count": 5,
   "metadata": {},
   "outputs": [],
   "source": [
    "#export\n",
    "class Encoder_h(nn.Module):\n",
    "    def __init__(self, Y_dim, H_dim, hidden_dim = 16):\n",
    "        super().__init__()\n",
    "        self.make_encoder(Y_dim, H_dim, hidden_dim)\n",
    "  \n",
    "    def make_encoder(self, Y_dim, H_dim, hidden_dim):\n",
    "        self.net = nn.Sequential(nn.Linear(Y_dim, hidden_dim), nn.Tanh(), nn.Linear(hidden_dim, hidden_dim), nn.Tanh())\n",
    "        self.mu = nn.Linear(hidden_dim, H_dim)\n",
    "        self.std = nn.Sequential(nn.Linear(hidden_dim, H_dim), nn.Softplus())\n",
    "  \n",
    "    def forward(self, y):\n",
    "        hidden_state = self.net(y)\n",
    "        mu, std = self.mu(hidden_state), self.std(hidden_state)\n",
    "        return dist.Normal(mu, std)"
   ]
  },
  {
   "cell_type": "markdown",
   "metadata": {},
   "source": [
    "### Decoder"
   ]
  },
  {
   "cell_type": "code",
   "execution_count": 6,
   "metadata": {},
   "outputs": [],
   "source": [
    "#export\n",
    "class Decoder_h(nn.Module):\n",
    "    def __init__(self, B, H_dim):\n",
    "        super().__init__()\n",
    "        self.B = B\n",
    "        self.H_dim = H_dim\n",
    "        self.make_parameters()\n",
    "\n",
    "    def make_parameters(self):\n",
    "        self.mu = nn.Linear(self.H_dim, self.B, bias=False) #Just the matrix\n",
    "        self.sigma = nn.Linear(self.H_dim, self.B, bias=False) #Just the matrix\n",
    "        torch.nn.init.uniform_(self.sigma.weight, a=1.0, b=2.0)\n",
    "#         self.mu = nn.Parameter(torch.randn(self.B, self.H_dim))\n",
    "#         sigma = torch.rand(self.B, self.H_dim).view(self.B, self.H_dim) * torch.randint(1,10, (1,), dtype=torch.float32)\n",
    "#         self.sigma = nn.Parameter(sigma)\n",
    "\n",
    "    def _log_likelihood(self, h):\n",
    "        \"\"\"\n",
    "        h: shape=(BS,N,H_dim)\n",
    "        \"\"\"\n",
    "        BS, S, H_dim = h.shape\n",
    "        return dist.Normal(self.mu.weight.view(1,1,self.B,H_dim), self.sigma.weight.view(1,1,self.B,self.H_dim)).log_prob(h.view(BS, S, 1, H_dim))\n",
    "\n",
    "    def forward(self, z):\n",
    "        \"\"\"\n",
    "        z: shape = (BS,N) or (BS,) or (1,)\n",
    "        \"\"\"\n",
    "        # print(z_n)\n",
    "        h_dist = dist.Normal(self.mu.weight[z], self.sigma.weight[z])\n",
    "        return h_dist.rsample()"
   ]
  },
  {
   "cell_type": "markdown",
   "metadata": {},
   "source": [
    "# X"
   ]
  },
  {
   "cell_type": "markdown",
   "metadata": {},
   "source": [
    "### Encoder"
   ]
  },
  {
   "cell_type": "code",
   "execution_count": 7,
   "metadata": {},
   "outputs": [],
   "source": [
    "#export\n",
    "class Encoder_x(nn.Module):\n",
    "    def __init__(self, I_dim, H_dim, X_dim, hidden_size=16, inducing_point_stride=None):\n",
    "        super().__init__()\n",
    "        self.inducing_point_stride = inducing_point_stride\n",
    "        self.hidden_size = hidden_size\n",
    "        self.make_network(I_dim, H_dim, X_dim, hidden_size)\n",
    "\n",
    "    def make_network(self, I_dim, H_dim, X_dim, hidden_size):\n",
    "        self.bilstm = nn.LSTM(input_size=I_dim+H_dim, hidden_size=hidden_size, batch_first=True, bidirectional=True)\n",
    "        # self.densenet = nn.Sequential(nn.Linear(2*hidden_size, X_dim), nn.ReLU())\n",
    "        self.mu = nn.Linear(2*hidden_size, X_dim)\n",
    "        self.sigma = nn.Sequential(nn.Linear(2*hidden_size, X_dim), nn.Softplus())\n",
    "  \n",
    "    def forward(self, i_seq, h_seq):\n",
    "        \"\"\"\n",
    "        i_seq: shape = (BS, N)\n",
    "        h_seq: shape = (BS, N, H_dim)\n",
    "        \"\"\"\n",
    "        BS, T = i_seq.shape\n",
    "        assert(len(i_seq.shape)==2)\n",
    "        lstm_input = torch.cat([i_seq.view(*i_seq.shape, 1), h_seq], dim=-1)\n",
    "        hidden, _ = self.bilstm(lstm_input) #shape(hidden) = (BS, N, 2*hidden_size)\n",
    "    \n",
    "        if self.inducing_point_stride is not None:\n",
    "            mu, sigma = self.mu(hidden[:, ::self.inducing_point_stride]), self.sigma(hidden[:, ::self.inducing_point_stride])\n",
    "        else:\n",
    "            mu, sigma = self.mu(hidden), self.sigma(hidden)\n",
    "        return dist.Normal(mu, sigma)"
   ]
  },
  {
   "cell_type": "markdown",
   "metadata": {},
   "source": [
    "# Z"
   ]
  },
  {
   "cell_type": "code",
   "execution_count": 8,
   "metadata": {},
   "outputs": [],
   "source": [
    "#export\n",
    "class Model_z(nn.Module):\n",
    "    def __init__(self, B, debug=False):\n",
    "        super().__init__()\n",
    "        self.B = B\n",
    "        self.make_parameters(debug=debug)\n",
    "    \n",
    "    def make_parameters(self, X_dim = 1, debug=False):\n",
    "        self.Wx = nn.Linear(X_dim, self.B, bias=False)\n",
    "        # not a good idea: the norm is very high this way\n",
    "#         if debug:\n",
    "#             with torch.no_grad():\n",
    "#                 self.Wx.weight.copy_(Params.Wx.view(*self.Wx.weight.shape))\n",
    "        self.P = nn.Parameter((torch.rand((self.B,self.B)) + torch.eye(self.B,self.B)))\n",
    "        self.logpi = nn.Parameter(torch.rand((1,self.B)))\n",
    "    \n",
    "    def transform_x(self, x):\n",
    "        \"\"\"\n",
    "        x: shape=(BS,N)\n",
    "        \"\"\"\n",
    "        x = x.view(*x.shape, 1) #shape=(BS,N,1)\n",
    "        return self.Wx(x)\n",
    "    \n",
    "    def forward(self, x, z_prev):\n",
    "        \"\"\"\n",
    "        x: shape=(BS,N)\n",
    "        z_prev: shape=(BS,N)\n",
    "        \"\"\"\n",
    "        logits = self.transform_x(x_n) + self.P[z_prev] #shape=(BS,N,B)\n",
    "        dist_z = dist.Categorical(logits=logits)\n",
    "        return dist_z.sample()"
   ]
  },
  {
   "cell_type": "markdown",
   "metadata": {},
   "source": [
    "# I"
   ]
  },
  {
   "cell_type": "markdown",
   "metadata": {},
   "source": [
    "### Decoder"
   ]
  },
  {
   "cell_type": "code",
   "execution_count": 9,
   "metadata": {},
   "outputs": [],
   "source": [
    "#export\n",
    "class Decoder_i(nn.Module):\n",
    "    def __init__(self, X_dim, B):\n",
    "        super().__init__()\n",
    "        self.B = B\n",
    "        self.make_parameters(X_dim, B)\n",
    "\n",
    "    def make_parameters(self, X_dim, B):\n",
    "        # self.beta_a = nn.Parameter(torch.randn(X_dim + B + 1))\n",
    "        # self.beta_b = nn.Parameter(torch.randn(X_dim + B + 1))\n",
    "        self.glm = nn.Linear(X_dim + B, 2)\n",
    "\n",
    "    def _make_one_hot(self, z_n):\n",
    "        return F.one_hot(z_n, num_classes=self.B).float()\n",
    "\n",
    "    def _log_likelihood(self, i_n, x_n, z_n):\n",
    "        \"\"\"\n",
    "        i_n: shape=(BS,N)\n",
    "        x_n: shape=(BS,N)\n",
    "        z_n: shape=(BS,N)\n",
    "        \"\"\"\n",
    "        # BS, S = i_n.shape\n",
    "        dist_i = self._forward(x_n, z_n)\n",
    "        return dist_i.log_prob(i_n)\n",
    "    \n",
    "    def _forward(self, x_n, z_n):\n",
    "        \"\"\"\n",
    "        x_n - shape=(BS,N)\n",
    "        z_n - shape=(BS,N)\n",
    "        \"\"\"\n",
    "        x_n = x_n.view(*x_n.shape, 1) #shape = (BS,N,1)\n",
    "        z_n_one_hot = self._make_one_hot(z_n) #shape= (BS,N,B)\n",
    "        glm_input = torch.cat([x_n, z_n_one_hot], dim=-1)\n",
    "        gamma_params = self.glm(glm_input).mul(-1).exp() #shape= (BS,N,2)\n",
    "        num_dims = len(gamma_params.shape)\n",
    "        # from docs: tensor.select(0, index) is equivalent to tensor[index] and tensor.select(2, index) is equivalent to tensor[:,:,index].\n",
    "        a, b = gamma_params.select(num_dims-1, 0), gamma_params.select(num_dims-1, 1)\n",
    "        # gamma_params[*prev_shape,0], gamma_params[*prev_shape,1]\n",
    "        dist_i = dist.Gamma(a, b)\n",
    "        return dist_i\n",
    "\n",
    "    def forward(self, x_n, z_n):\n",
    "        \"\"\"\n",
    "        x_n - shape=(BS,N)\n",
    "        z_n - shape=(BS,N)\n",
    "        \"\"\"\n",
    "        # print(x_n.shape, z_n.shape)\n",
    "\n",
    "\n",
    "        # old code\n",
    "        # glm_input = torch.cat([torch.ones(*x_n.shape, 1), x_n, z_n_one_hot], dim=-1)\n",
    "        # a = torch.dot(self.beta_a, glm_input)\n",
    "        # b = torch.dot(self.beta_b, glm_input)\n",
    "\n",
    "        # new way - using matrix multiplication\n",
    "        dist_i = self._forward(x_n, z_n)\n",
    "        return dist_i.rsample()"
   ]
  },
  {
   "cell_type": "markdown",
   "metadata": {},
   "source": [
    "# Y"
   ]
  },
  {
   "cell_type": "code",
   "execution_count": 10,
   "metadata": {},
   "outputs": [],
   "source": [
    "#export\n",
    "class Decoder_y(nn.Module):\n",
    "    def __init__(self, H_dim, Y_dim, hidden_dim=32):\n",
    "        super().__init__()\n",
    "        self.make_parameters(H_dim, Y_dim, hidden_dim)\n",
    "    \n",
    "    def make_parameters(self, H_dim, Y_dim, hidden_dim):\n",
    "        self.base_net = nn.Sequential(nn.Linear(H_dim, hidden_dim), nn.Tanh(), nn.Linear(hidden_dim, hidden_dim), nn.Tanh())\n",
    "        self.mu = nn.Linear(hidden_dim, Y_dim)\n",
    "        self.std = nn.Sequential(nn.Linear(hidden_dim, Y_dim), nn.Softplus())\n",
    "        \n",
    "    def _log_likelihood(self, H, Y):\n",
    "        \"\"\"\n",
    "        H: shape=(BS,N,H_dim)\n",
    "        Y: shape=(BS,N,Y_dim)\n",
    "        \"\"\"\n",
    "        BS, S, Y_dim = Y.shape\n",
    "        dist_Y = self.forward(H)\n",
    "        return dist_Y.log_prob(Y)\n",
    "    \n",
    "    def forward(self, H):\n",
    "        \"\"\"\n",
    "        H: shape=(BS,N,H_dim)\n",
    "        \"\"\"\n",
    "        hidden = self.base_net(H)\n",
    "        mu, std = self.mu(hidden), self.std(hidden)\n",
    "        dist_Y = dist.Normal(mu, std)\n",
    "        return dist_Y"
   ]
  },
  {
   "cell_type": "markdown",
   "metadata": {},
   "source": [
    "# Message passing routines"
   ]
  },
  {
   "cell_type": "markdown",
   "metadata": {},
   "source": [
    "### $l_n$"
   ]
  },
  {
   "cell_type": "code",
   "execution_count": 11,
   "metadata": {},
   "outputs": [],
   "source": [
    "#export\n",
    "def l_n_vectorized(I, X, H, B, model_i, model_h, device):\n",
    "    \"\"\"\n",
    "    I: shape=(BS,N)\n",
    "    X: shape=(BS,N)\n",
    "    H: shape=(BS,N,H_dim)\n",
    "    device: 'cuda'/'cpu'\n",
    "\n",
    "    Output:\n",
    "    out: shape=(BS,N,B,1)\n",
    "    \"\"\"\n",
    "    # sort of a workaround\n",
    "    Z = torch.arange(B).view(*torch.ones(len(X.shape), dtype=int), B).expand(*X.shape, -1).to(device)\n",
    "    X = X.view(*X.shape, 1).expand(*X.shape, B)\n",
    "    I = I.view(*I.shape, 1).expand(*I.shape, B)\n",
    "    \n",
    "    assert X.shape == I.shape == Z.shape\n",
    "    \n",
    "    ll_i = model_i._log_likelihood(I, X, Z) #shape = (BS,N,B)\n",
    "    ll_h = model_h._log_likelihood(H) #shape=(BS,N,B,H_dim)\n",
    "    # print(ll_i.shape, ll_h.shape)\n",
    "    \n",
    "    out = (ll_i + ll_h.sum(-1)).unsqueeze(-1) #shape for each = (BS,N,B)\n",
    "    return out #shape for each = (BS,N,B,1)"
   ]
  },
  {
   "cell_type": "code",
   "execution_count": 12,
   "metadata": {},
   "outputs": [],
   "source": [
    "#export\n",
    "def l_n_vectorized_paper(I, Y, X, H, B, model_i, model_h, model_y, device):\n",
    "    \"\"\"\n",
    "    I: shape=(BS,N)\n",
    "    Y: shape=(BS,N)\n",
    "    X: shape=(BS,N)\n",
    "    H: shape=(BS,N,H_dim)\n",
    "    device: 'cuda'/'cpu'\n",
    "\n",
    "    Output:\n",
    "    out: shape=(BS,N,B,1)\n",
    "    \"\"\"\n",
    "    # sort of a workaround\n",
    "    Z = torch.arange(B).view(*torch.ones(len(X.shape), dtype=int), B).expand(*X.shape, -1).to(device)\n",
    "    X = X.view(*X.shape, 1).expand(*X.shape, B)\n",
    "    I = I.view(*I.shape, 1).expand(*I.shape, B)\n",
    "    \n",
    "    assert X.shape == I.shape == Z.shape\n",
    "    \n",
    "    ll_i = model_i._log_likelihood(I, X, Z) #shape = (BS,N,B)\n",
    "    ll_h = model_h._log_likelihood(H) #shape=(BS,N,B,H_dim)\n",
    "    ll_y = model_y._log_likelihood(H, Y) #shape(BS,N,Y_dim)\n",
    "    \n",
    "    # print(ll_i.shape, ll_h.shape)\n",
    "    \n",
    "    out = (ll_i + ll_h.sum(-1) + ll_y.sum(-1).unsqueeze(-1)).unsqueeze(-1) #shape for each = (BS,N,B)\n",
    "    return out #shape for each = (BS,N,B,1)"
   ]
  },
  {
   "cell_type": "markdown",
   "metadata": {},
   "source": [
    "### $\\psi_n$"
   ]
  },
  {
   "cell_type": "code",
   "execution_count": 13,
   "metadata": {},
   "outputs": [],
   "source": [
    "#export\n",
    "def psi_n_vectorized(X, model_z):\n",
    "    \"\"\"\n",
    "    X: shape=(BS,N)\n",
    "    \"\"\"\n",
    "    init_shape = X.shape\n",
    "    X_mod = model_z.transform_x(X) #shape = (BS,N,B)\n",
    "    X_mod = X_mod.unsqueeze(-2) #shape = (BS,N,1,B) - make 'row vector'\n",
    "\n",
    "    unnorm_logits = model_z.P.view(1,1,*model_z.P.shape) + X_mod #shape = (1,1,B,B) + (BS,N,1,B) = (BS,N,B,B)\n",
    "    normalizer = torch.logsumexp(unnorm_logits, dim=-1, keepdim=True) #shape = (BS,N,B,1)\n",
    "    return (unnorm_logits - normalizer) #shape=(BS,N,B,B)"
   ]
  },
  {
   "cell_type": "markdown",
   "metadata": {},
   "source": [
    "### $m_n$"
   ]
  },
  {
   "cell_type": "code",
   "execution_count": 14,
   "metadata": {},
   "outputs": [],
   "source": [
    "#export\n",
    "def compute_message(psi_matrix, l_vector, prev_message_vector):\n",
    "    \"\"\"\n",
    "    psi_matrix: shape=(..., B,B)\n",
    "    l_vector: shape=(..., B,1)\n",
    "    prev_message_vector: shape=(..., B,1)\n",
    "\n",
    "    Output: \n",
    "    next_message_vector: shape=(..., B,1)\n",
    "    \"\"\"\n",
    "    raw_messages = psi_matrix + l_vector + prev_message_vector #shape=(..., B, B)\n",
    "    next_message_vector = torch.logsumexp(raw_messages, dim=-2, keepdim=True) #shape=(..., 1, B) - 'row vector'\n",
    "    next_message_vector = next_message_vector.transpose(-1,-2)\n",
    "\n",
    "    #Alternate way of doing above two steps in one\n",
    "    # _next_message_vector = torch.logsumexp(raw_messages, dim=-2, keepdim=False).unsqueeze(-1)\n",
    "    # print((next_message_vector - _next_message_vector).sum())\n",
    "\n",
    "    return next_message_vector"
   ]
  },
  {
   "cell_type": "code",
   "execution_count": 15,
   "metadata": {},
   "outputs": [],
   "source": [
    "#export\n",
    "def compute_message_paper(psi_matrix, l_vector, prev_message_vector):\n",
    "    \"\"\"\n",
    "    psi_matrix: shape=(..., B,B)\n",
    "    l_vector: shape=(..., B,1)\n",
    "    prev_message_vector: shape=(..., B,1)\n",
    "\n",
    "    Output: \n",
    "    next_message_vector: shape=(..., B,1)\n",
    "    \"\"\"\n",
    "    raw_messages = psi_matrix + l_vector + prev_message_vector #shape=(..., B, B)\n",
    "    next_message_vector = torch.logsumexp(raw_messages, dim=-2, keepdim=True) #shape=(..., 1, B) - 'row vector'\n",
    "    next_message_vector = next_message_vector.transpose(-1,-2)\n",
    "\n",
    "    #Alternate way of doing above two steps in one\n",
    "    # _next_message_vector = torch.logsumexp(raw_messages, dim=-2, keepdim=False).unsqueeze(-1)\n",
    "    # print((next_message_vector - _next_message_vector).sum())\n",
    "\n",
    "    return next_message_vector"
   ]
  },
  {
   "cell_type": "code",
   "execution_count": 16,
   "metadata": {},
   "outputs": [],
   "source": [
    "#export\n",
    "def marginalize_z(I,Y,H,X, model_z, model_i, model_h):\n",
    "    \"\"\"\n",
    "    I: shape=(BS,N)\n",
    "    Y: shape=(BS,N,Y_dim)\n",
    "    H: shape=(BS,N,H_dim)\n",
    "    X: shape=(BS,N)\n",
    "    \n",
    "    output:\n",
    "    normalized_factor: shape=(BS,N,1)\n",
    "    \"\"\"\n",
    "    device = I.device\n",
    "    N, S = X.shape\n",
    "    B = model_z.B\n",
    "    psi_matrix = psi_n_vectorized(X, model_z) #shape = (S,N,B,B)\n",
    "    psi_matrix[:,0] *= 0 \n",
    "  \n",
    "    l = l_n_vectorized(I,X,H, B, model_i, model_h, device) #shape = (S,N,B,1)\n",
    "    m = torch.zeros(N,S,B,1).to(device)\n",
    "\n",
    "    m[:,0] += F.log_softmax(model_z.logpi, dim=-1).view(1,B,1) #better way of doing log(pi) - lse(log(pi))? = log(softmax( pi_unnorm ))\n",
    "    for s in range(1,S):\n",
    "        m[:,s] = compute_message(psi_matrix[:,s], l[:,s-1], m[:,s-1])\n",
    "  \n",
    "    normalized_factor = torch.logsumexp(m, dim=-2)\n",
    "    return normalized_factor"
   ]
  },
  {
   "cell_type": "code",
   "execution_count": 17,
   "metadata": {},
   "outputs": [],
   "source": [
    "#export\n",
    "def marginalize_z_paper(I,Y,H,X, model_z, model_i, model_h, model_y):\n",
    "    \"\"\"\n",
    "    I: shape=(BS,N)\n",
    "    Y: shape=(BS,N,Y_dim)\n",
    "    H: shape=(BS,N,H_dim)\n",
    "    X: shape=(BS,N)\n",
    "    \n",
    "    output:\n",
    "    normalized_factor: shape=(BS,N,1)\n",
    "    \"\"\"\n",
    "    device = I.device\n",
    "    N, S = X.shape\n",
    "    B = model_z.B\n",
    "    psi_matrix = psi_n_vectorized(X, model_z) #shape = (S,N,B,B)\n",
    "    psi_matrix[:,0] *= 0 \n",
    "  \n",
    "    l = l_n_vectorized_paper(I,Y,X,H, B, model_i, model_h, model_y, device) #shape = (S,N,B,1)\n",
    "    m = torch.zeros(N,S,B,1).to(device)\n",
    "\n",
    "    m[:,0] += F.log_softmax(model_z.logpi, dim=-1).view(1,B,1) #better way of doing log(pi) - lse(log(pi))? = log(softmax( pi_unnorm ))\n",
    "    for s in range(1,S):\n",
    "        m[:,s] = compute_message(psi_matrix[:,s], l[:,s-1], m[:,s-1])\n",
    "  \n",
    "    normalized_factor = torch.logsumexp(m, dim=-2)\n",
    "    return normalized_factor"
   ]
  },
  {
   "cell_type": "code",
   "execution_count": 20,
   "metadata": {
    "scrolled": true
   },
   "outputs": [
    {
     "name": "stdout",
     "output_type": "stream",
     "text": [
      "torch.Size([10, 11, 1])\n"
     ]
    }
   ],
   "source": [
    "from pp_lvm.simulations import TrueParameters, simulate_data\n",
    "Params = TrueParameters(S=10, N=11, B=3, H_dim=2, Y_dim=2)\n",
    "I,Y,T,X,Z,H = simulate_data(Params)\n",
    "device='cuda'\n",
    "model_z = Model_z(Params.B).to(device)\n",
    "model_i = Decoder_i(1, Params.B).to(device)\n",
    "model_h = Decoder_h(Params.B, Params.H_dim).to(device)\n",
    "model_y = Decoder_y(Params.H_dim, Params.Y_dim).to(device)\n",
    "\n",
    "with torch.no_grad():\n",
    "    print(marginalize_z_paper(I,Y,H,X, model_z, model_i, model_h, model_y).shape)"
   ]
  },
  {
   "cell_type": "code",
   "execution_count": 26,
   "metadata": {},
   "outputs": [
    {
     "data": {
      "image/png": "[encoded data removed]",
      "text/plain": [
       "<Figure size 432x288 with 1 Axes>"
      ]
     },
     "metadata": {
      "needs_background": "light"
     },
     "output_type": "display_data"
    },
    {
     "data": {
      "image/png": "[encoded data removed]",
      "text/plain": [
       "<Figure size 432x288 with 1 Axes>"
      ]
     },
     "metadata": {
      "needs_background": "light"
     },
     "output_type": "display_data"
    }
   ],
   "source": [
    "plt.hist(model_h.mu.weight.flatten().cpu().data); plt.show();\n",
    "plt.hist(model_h.sigma.weight.flatten().cpu().data);"
   ]
  },
  {
   "cell_type": "code",
   "execution_count": 19,
   "metadata": {},
   "outputs": [
    {
     "name": "stdout",
     "output_type": "stream",
     "text": [
      "Converted 00_core.ipynb.\n",
      "Converted 01_simulations.ipynb.\n",
      "Converted 02_models.ipynb.\n",
      "Converted 03_GP.ipynb.\n",
      "Converted index.ipynb.\n"
     ]
    }
   ],
   "source": [
    "from nbdev.export import *\n",
    "notebook2script()"
   ]
  },
  {
   "cell_type": "code",
   "execution_count": null,
   "metadata": {},
   "outputs": [],
   "source": []
  }
 ],
 "metadata": {
  "kernelspec": {
   "display_name": "Python 3",
   "language": "python",
   "name": "python3"
  },
  "language_info": {
   "codemirror_mode": {
    "name": "ipython",
    "version": 3
   },
   "file_extension": ".py",
   "mimetype": "text/x-python",
   "name": "python",
   "nbconvert_exporter": "python",
   "pygments_lexer": "ipython3",
   "version": "3.7.6"
  }
 },
 "nbformat": 4,
 "nbformat_minor": 2
}
