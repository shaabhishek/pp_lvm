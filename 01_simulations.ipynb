{
 "cells": [
  {
   "cell_type": "code",
   "execution_count": 1,
   "metadata": {},
   "outputs": [],
   "source": [
    "# default_exp simulations"
   ]
  },
  {
   "cell_type": "markdown",
   "metadata": {},
   "source": [
    "# module name here\n",
    "\n",
    "> API details."
   ]
  },
  {
   "cell_type": "code",
   "execution_count": 2,
   "metadata": {},
   "outputs": [],
   "source": [
    "#hide\n",
    "from nbdev.showdoc import *"
   ]
  },
  {
   "cell_type": "code",
   "execution_count": 3,
   "metadata": {},
   "outputs": [],
   "source": [
    "#export\n",
    "import numpy as np\n",
    "import matplotlib.pyplot as plt\n",
    "\n",
    "import torch\n",
    "import torch.distributions as dist\n",
    "import torch.nn as nn\n",
    "import torch.nn.functional as F"
   ]
  },
  {
   "cell_type": "code",
   "execution_count": 4,
   "metadata": {},
   "outputs": [],
   "source": [
    "#export\n",
    "device = 'cuda' if torch.cuda.is_available() else 'cpu'"
   ]
  },
  {
   "cell_type": "markdown",
   "metadata": {},
   "source": [
    "# Parameters"
   ]
  },
  {
   "cell_type": "markdown",
   "metadata": {},
   "source": [
    "### S: Number of sequences\n",
    "### N: Length of one sequence"
   ]
  },
  {
   "cell_type": "code",
   "execution_count": 5,
   "metadata": {},
   "outputs": [],
   "source": [
    "#export\n",
    "class TrueParameters:\n",
    "    def __init__(self, S=50, N=10, device=device, B=3, H_dim=2, Y_dim=2, noise_X=1.0, noise_H=1.0):\n",
    "        # Hyperparameters\n",
    "        self.S,self.N = S,N\n",
    "        \n",
    "        # x\n",
    "        self.noise_X = torch.tensor(noise_X, dtype=torch.float32).to(device)\n",
    "\n",
    "        # z\n",
    "        self.B = B\n",
    "        self.P = (torch.rand((self.B,self.B)) + torch.eye(self.B,self.B)).to(device)\n",
    "        self.logpi = torch.rand((1,self.B))\n",
    "        self.Wx = torch.rand(self.B).to(device)\n",
    "\n",
    "        # h\n",
    "        self.H_dim = H_dim\n",
    "        self.noise_H = torch.tensor(noise_H, dtype=torch.float32).to(device)\n",
    "        self.mu_h = torch.randn(self.B, self.H_dim).to(device)\n",
    "        self.sigma_h = torch.rand(self.B, self.H_dim).view(self.B, self.H_dim) * torch.randint(1,10, (1,), dtype=torch.float32)\n",
    "        self.sigma_h = self.sigma_h.to(device)\n",
    "        \n",
    "        # i\n",
    "        self.beta_a = torch.tensor([-np.log(4), 0.,0.]).to(device)\n",
    "        self.beta_b = torch.tensor([0., 0.,0.]).to(device)\n",
    "\n",
    "        # y\n",
    "        self.Y_dim = Y_dim\n",
    "        self.W_mu_y = torch.randn(self.H_dim, self.Y_dim).to(device)\n",
    "        self.W_sigma_y = torch.rand(self.H_dim, self.Y_dim).to(device)\n"
   ]
  },
  {
   "cell_type": "markdown",
   "metadata": {},
   "source": [
    "# Helper functions"
   ]
  },
  {
   "cell_type": "code",
   "execution_count": 6,
   "metadata": {},
   "outputs": [],
   "source": [
    "#export\n",
    "transform_x = lambda t: torch.sin(t/200)*.7 - .1"
   ]
  },
  {
   "cell_type": "code",
   "execution_count": 7,
   "metadata": {},
   "outputs": [],
   "source": [
    "#export\n",
    "def link_gamma(xn, zn, Params):\n",
    "    device = xn.device\n",
    "    data = torch.tensor([1., xn, zn]).to(device)\n",
    "    a,b = (torch.dot(Params.beta_a, data).mul(-1).exp(), torch.dot(Params.beta_b, data).mul(-1).exp())\n",
    "    # print(a,b)\n",
    "    return a,b"
   ]
  },
  {
   "cell_type": "code",
   "execution_count": 8,
   "metadata": {},
   "outputs": [],
   "source": [
    "#export\n",
    "def sample_using_logits(logits):\n",
    "    return dist.Categorical(logits=logits).sample()"
   ]
  },
  {
   "cell_type": "code",
   "execution_count": 9,
   "metadata": {},
   "outputs": [],
   "source": [
    "#export\n",
    "def get_time_from_intervals(I):\n",
    "    last_dim_size = I.shape[-1]\n",
    "    I = F.pad(I, (1,0)) #pads the last dimension with width=1 on the left and width=0 on the right. Value of padding=0\n",
    "    I = I.cumsum(dim=-1)\n",
    "    # Note: new I has one element extra than initial I on the final dimension. This cuts that one last element in a general way\n",
    "    I = torch.stack([torch.select(I, I.dim()-1, i) for i in range(last_dim_size)], dim=-1)\n",
    "    return I"
   ]
  },
  {
   "cell_type": "markdown",
   "metadata": {},
   "source": [
    "# Simulation"
   ]
  },
  {
   "cell_type": "markdown",
   "metadata": {},
   "source": [
    "## X, Z, I"
   ]
  },
  {
   "cell_type": "code",
   "execution_count": 10,
   "metadata": {},
   "outputs": [],
   "source": [
    "#export\n",
    "def simulate_XZI_seq(Params, device=device, noise_X=1.):\n",
    "    t = torch.tensor([0.]).to(device)\n",
    "    X_s = [transform_x(t)]\n",
    "    Z_s = [sample_using_logits(Params.Wx*X_s[0])]\n",
    "    I_s = [dist.Gamma(*link_gamma(X_s[0], Z_s[0], Params)).sample()]\n",
    "\n",
    "    for n in range(1, Params.N):\n",
    "        t += I_s[-1]\n",
    "        X_s.append(transform_x(t) + torch.randn((1,), device=device)*Params.noise_X) #uses current t which is a function of all I_{t'}, t' < t\n",
    "        Z_s.append(sample_using_logits(Params.Wx*X_s[-1] + Params.P[Z_s[-1]])) #X_{t} and Z_{t-1}\n",
    "        I_s.append(dist.Gamma(*link_gamma(X_s[-1], Z_s[-1], Params)).sample()) #X_{t} and Z_{t}\n",
    "  \n",
    "    X_s, Z_s, I_s = torch.tensor(X_s).to(device), torch.tensor(Z_s).to(device), torch.tensor(I_s).to(device)\n",
    "    return X_s, Z_s, I_s\n",
    "\n",
    "def simulate_XZI(Params):\n",
    "    X, Z, I = [], [], []\n",
    "    noise_X = Params.noise_X\n",
    "    for s in range(Params.S):\n",
    "        X_s, Z_s, I_s = simulate_XZI_seq(Params, noise_X=noise_X)\n",
    "        X.append(X_s)\n",
    "        Z.append(Z_s)\n",
    "        I.append(I_s)\n",
    "\n",
    "    return torch.stack(X, dim=0), torch.stack(Z, dim=0), torch.stack(I, dim=0)\n",
    "\n"
   ]
  },
  {
   "cell_type": "markdown",
   "metadata": {},
   "source": [
    "## H"
   ]
  },
  {
   "cell_type": "code",
   "execution_count": 11,
   "metadata": {},
   "outputs": [],
   "source": [
    "#export\n",
    "def simulate_H(Z,Params):\n",
    "    H = []\n",
    "    for s in range(Params.S):\n",
    "        Z_s = Z[s]\n",
    "        H_s = torch.stack([dist.Normal(Params.mu_h[Z_s[n]], Params.sigma_h[Z_s[n]]*Params.noise_H ).sample() for n in range(Params.N)], dim=0)\n",
    "        H.append(H_s)\n",
    "    return torch.stack(H, dim=0) #shape: (S,T,H_dim)"
   ]
  },
  {
   "cell_type": "markdown",
   "metadata": {},
   "source": [
    "## Y"
   ]
  },
  {
   "cell_type": "code",
   "execution_count": 12,
   "metadata": {},
   "outputs": [],
   "source": [
    "#export\n",
    "def simulate_Y(H, Params):\n",
    "    mu, sigma = torch.matmul(H, Params.W_mu_y), torch.matmul(H, Params.W_sigma_y)\n",
    "    Y = dist.Normal(mu, sigma).sample()\n",
    "    return Y"
   ]
  },
  {
   "cell_type": "markdown",
   "metadata": {},
   "source": [
    "# Generate FULL DATASET"
   ]
  },
  {
   "cell_type": "code",
   "execution_count": 13,
   "metadata": {},
   "outputs": [],
   "source": [
    "#export\n",
    "def simulate_data(Params):\n",
    "    X, Z, I = simulate_XZI(Params)\n",
    "    T = get_time_from_intervals(I)\n",
    "    H = simulate_H(Z, Params)\n",
    "    Y = simulate_Y(H, Params)\n",
    "    return I,Y,T,X,Z,H"
   ]
  },
  {
   "cell_type": "markdown",
   "metadata": {},
   "source": [
    "# TEST"
   ]
  },
  {
   "cell_type": "code",
   "execution_count": 14,
   "metadata": {},
   "outputs": [
    {
     "data": {
      "text/plain": [
       "<__main__.TrueParameters at 0x2aab2984c590>"
      ]
     },
     "execution_count": 14,
     "metadata": {},
     "output_type": "execute_result"
    }
   ],
   "source": [
    "TrueParameters()"
   ]
  },
  {
   "cell_type": "code",
   "execution_count": 22,
   "metadata": {},
   "outputs": [],
   "source": [
    "def test():\n",
    "    Params = TrueParameters(S=5, N=400, H_dim=1, noise_X=0, noise_H=0)\n",
    "    X, Z, I = simulate_XZI(Params)\n",
    "    T = get_time_from_intervals(I)\n",
    "    H = simulate_H(Z, Params)\n",
    "    Y = simulate_Y(H, Params)\n",
    "    return Params,X,Z,I,T,H,Y"
   ]
  },
  {
   "cell_type": "code",
   "execution_count": 23,
   "metadata": {},
   "outputs": [],
   "source": [
    "Params,X,Z,I,T,H,Y = test()"
   ]
  },
  {
   "cell_type": "code",
   "execution_count": 24,
   "metadata": {
    "scrolled": true
   },
   "outputs": [
    {
     "data": {
      "text/plain": [
       "(torch.Size([5, 400]),\n",
       " torch.Size([5, 400]),\n",
       " torch.Size([5, 400]),\n",
       " torch.Size([5, 400]),\n",
       " torch.Size([5, 400, 1]),\n",
       " torch.Size([5, 400, 2]))"
      ]
     },
     "execution_count": 24,
     "metadata": {},
     "output_type": "execute_result"
    }
   ],
   "source": [
    "X.shape,Z.shape,I.shape,T.shape,H.shape,Y.shape"
   ]
  },
  {
   "cell_type": "markdown",
   "metadata": {},
   "source": [
    "## Some Visualizations"
   ]
  },
  {
   "cell_type": "code",
   "execution_count": 25,
   "metadata": {},
   "outputs": [],
   "source": [
    "#export\n",
    "def visualize(Params, X,T,I,H=None):\n",
    "    fig, ax = plt.subplots(3,2, figsize=(8,8))\n",
    "\n",
    "    s = 0\n",
    "    ax[0,0].plot(torch.linspace(1e-6,T[s,-1],100), transform_x(torch.linspace(1e-6,T[s,-1],100)))\n",
    "    ax[0,0].scatter(T[s].cpu(), X[s].cpu())\n",
    "    ax[0,0].set_title(f\"Latent state $x(t)$ ({s+1}th Seq)\")\n",
    "\n",
    "    im = ax[0,1].imshow(Params.P.cpu())\n",
    "    fig.colorbar(im, ax=ax[0,1])\n",
    "    ax[0,1].set_title(\"Base transition logits\")\n",
    "\n",
    "    for _s in range(min(5, Params.S)):\n",
    "        ax[1,0].scatter(T[_s].cpu(), torch.zeros_like(T[_s].cpu())+_s)\n",
    "    ax[1,0].set_title(\"Event Times (5 indpt sequences)\")\n",
    "\n",
    "    ax[1,1].hist(I[s].cpu().numpy(), bins=20)\n",
    "    ax[1,1].set_title(f\"Histogram of Interval Times ({s+1}th sequence)\")\n",
    "    \n",
    "    if H is not None:\n",
    "        ax[2,0].scatter(T[s].cpu(), H[s,:,0].cpu())\n",
    "        try:\n",
    "            ax[2,1].scatter(T[s].cpu(), H[s,:,1].cpu())\n",
    "        except:\n",
    "            pass"
   ]
  },
  {
   "cell_type": "code",
   "execution_count": 26,
   "metadata": {},
   "outputs": [
    {
     "name": "stdout",
     "output_type": "stream",
     "text": [
      "tensor([[1.5394],\n",
      "        [1.0616],\n",
      "        [1.3181]], device='cuda:0')\n"
     ]
    },
    {
     "data": {
      "image/png": "[encoded data removed]",
      "text/plain": [
       "<Figure size 432x288 with 2 Axes>"
      ]
     },
     "metadata": {
      "needs_background": "light"
     },
     "output_type": "display_data"
    }
   ],
   "source": [
    "print(Params.sigma_h)\n",
    "c = plt.imshow(Params.sigma_h.cpu().detach().numpy())\n",
    "plt.colorbar(c);"
   ]
  },
  {
   "cell_type": "code",
   "execution_count": 27,
   "metadata": {},
   "outputs": [
    {
     "data": {
      "image/png": "[encoded data removed]",
      "text/plain": [
       "<Figure size 576x576 with 7 Axes>"
      ]
     },
     "metadata": {
      "needs_background": "light"
     },
     "output_type": "display_data"
    }
   ],
   "source": [
    "visualize(Params,X,T,I,H)"
   ]
  },
  {
   "cell_type": "code",
   "execution_count": null,
   "metadata": {},
   "outputs": [],
   "source": []
  },
  {
   "cell_type": "code",
   "execution_count": 21,
   "metadata": {},
   "outputs": [
    {
     "name": "stdout",
     "output_type": "stream",
     "text": [
      "Converted 00_core.ipynb.\n",
      "Converted 01_simulations.ipynb.\n",
      "Converted 02_models.ipynb.\n",
      "Converted 03_GP.ipynb.\n",
      "Converted index.ipynb.\n"
     ]
    }
   ],
   "source": [
    "from nbdev.export import *\n",
    "notebook2script()"
   ]
  },
  {
   "cell_type": "code",
   "execution_count": null,
   "metadata": {},
   "outputs": [],
   "source": []
  }
 ],
 "metadata": {
  "kernelspec": {
   "display_name": "Python 3",
   "language": "python",
   "name": "python3"
  },
  "language_info": {
   "codemirror_mode": {
    "name": "ipython",
    "version": 3
   },
   "file_extension": ".py",
   "mimetype": "text/x-python",
   "name": "python",
   "nbconvert_exporter": "python",
   "pygments_lexer": "ipython3",
   "version": "3.7.6"
  }
 },
 "nbformat": 4,
 "nbformat_minor": 2
}
